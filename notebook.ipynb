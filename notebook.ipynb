{
 "cells": [
  {
   "cell_type": "code",
   "execution_count": null,
   "id": "d31c223d",
   "metadata": {},
   "outputs": [],
   "source": [
    "import torch\n",
    "from roboflow import Roboflow\n",
    "from ultralytics import YOLO\n",
    "from dotenv import load_dotenv\n",
    "import os"
   ]
  },
  {
   "cell_type": "code",
   "execution_count": null,
   "id": "c9d7bd8b",
   "metadata": {},
   "outputs": [],
   "source": [
    "load_dotenv()\n",
    "rf = Roboflow(api_key=os.getenv(\"ROBOFLOW_API_KEY\"))\n",
    "project = rf.workspace(os.getenv(\"ROBOFLOW_WORKSPACE_NAME\")).project(os.getenv(\"ROBOFLOW_PROJECT_NAME\"))\n",
    "version = project.version(1)\n",
    "dataset = version.download(\"folder\",location=\"data\")"
   ]
  },
  {
   "cell_type": "code",
   "execution_count": null,
   "id": "d7d124d9",
   "metadata": {},
   "outputs": [],
   "source": [
    "model = YOLO(\"model/yolo/\"+os.getenv(\"YOLO_MODEL_NAME\"))\n",
    "if torch.cuda.is_available():\n",
    "    device = \"cuda\"\n",
    "    print(f\"Using device: cuda (GPU: {torch.cuda.get_device_name(0)})\")\n",
    "elif torch.backends.mps.is_available():\n",
    "    device = \"mps\"\n",
    "    print(\"Using device: mps (Apple Silicon)\")\n",
    "else:\n",
    "    device = \"cpu\"\n",
    "    print(\"Using device: cpu (No GPU detected)\")\n",
    "\n",
    "# Allow environment override\n",
    "if os.getenv(\"DEVICE\"):\n",
    "    device = os.getenv(\"DEVICE\")\n",
    "    print(f\"Device overridden by env: {device}\")\n",
    "\n",
    "model.to(device)"
   ]
  },
  {
   "cell_type": "code",
   "execution_count": null,
   "id": "1a80d4e5",
   "metadata": {},
   "outputs": [],
   "source": [
    "results = model.train(\n",
    "    data=\"data/train\",\n",
    "    epochs=int(os.getenv(\"EPOCHS\", 10)),\n",
    "    imgsz=int(os.getenv(\"IMG_SIZE\", 640)),\n",
    "    batch=int(os.getenv(\"BATCH_SIZE\", 10)),\n",
    "    name=os.getenv(\"YOLO_TRAINING_NAME\"),\n",
    "    exist_ok=True,\n",
    "    workers=int(os.getenv(\"WORKERS\", 0)),  # Default to 0 to avoid shared memory issues\n",
    "    patience=50,  # Early stopping patience\n",
    "    verbose=True,\n",
    ")\n"
   ]
  },
  {
   "cell_type": "code",
   "execution_count": null,
   "id": "dd12e091",
   "metadata": {},
   "outputs": [],
   "source": [
    "trained_model_dir = \"model/trained\"\n",
    "os.makedirs(trained_model_dir, exist_ok=True)\n",
    "model.save(f\"{trained_model_dir}/{os.getenv('YOLO_TRAINING_NAME')}.pt\")\n"
   ]
  }
 ],
 "metadata": {
  "kernelspec": {
   "display_name": ".venv",
   "language": "python",
   "name": "python3"
  },
  "language_info": {
   "codemirror_mode": {
    "name": "ipython",
    "version": 3
   },
   "file_extension": ".py",
   "mimetype": "text/x-python",
   "name": "python",
   "nbconvert_exporter": "python",
   "pygments_lexer": "ipython3",
   "version": "3.10.18"
  }
 },
 "nbformat": 4,
 "nbformat_minor": 5
}
