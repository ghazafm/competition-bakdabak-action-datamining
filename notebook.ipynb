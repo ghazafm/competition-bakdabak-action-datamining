{
 "cells": [
  {
   "cell_type": "code",
   "execution_count": null,
   "id": "d31c223d",
   "metadata": {},
   "outputs": [],
   "source": [
    "import torch\n",
    "from roboflow import Roboflow\n",
    "from ultralytics import YOLO\n",
    "from dotenv import load_dotenv\n",
    "import os"
   ]
  },
  {
   "cell_type": "code",
   "execution_count": null,
   "id": "c9d7bd8b",
   "metadata": {},
   "outputs": [],
   "source": [
    "load_dotenv()\n",
    "rf = Roboflow(api_key=os.getenv(\"ROBOFLOW_API_KEY\"))\n",
    "project = rf.workspace(os.getenv(\"ROBOFLOW_WORKSPACE_NAME\")).project(os.getenv(\"ROBOFLOW_PROJECT_NAME\"))\n",
    "version = project.version(1)\n",
    "dataset = version.download(\"folder\",location=\"data\")"
   ]
  },
  {
   "cell_type": "code",
   "execution_count": null,
   "id": "d7d124d9",
   "metadata": {},
   "outputs": [],
   "source": [
    "model = YOLO(\"model/yolo/\"+os.getenv(\"YOLO_MODEL_NAME\"))\n",
    "device = os.getenv(\"DEVICE\") if torch.backends.mps.is_available() else \"cpu\"\n",
    "print(\"Using device:\", device)\n",
    "model.to(device)"
   ]
  },
  {
   "cell_type": "code",
   "execution_count": null,
   "id": "1a80d4e5",
   "metadata": {},
   "outputs": [],
   "source": [
    "results = model.train(\n",
    "    data=\"data/train\",\n",
    "    epochs=int(os.getenv(\"EPOCHS\",10)),\n",
    "    imgsz=int(os.getenv(\"IMG_SIZE\",640)),\n",
    "    batch=int(os.getenv(\"BATCH_SIZE\",10)),\n",
    "    name=os.getenv(\"YOLO_TRAINING_NAME\"),\n",
    "    exist_ok=True,\n",
    ")"
   ]
  },
  {
   "cell_type": "code",
   "execution_count": null,
   "id": "dd12e091",
   "metadata": {},
   "outputs": [],
   "source": [
    "model.save(\"model/trained/\"+os.getenv(\"YOLO_TRAINING_NAME\")+\".pt\")"
   ]
  }
 ],
 "metadata": {
  "kernelspec": {
   "display_name": ".venv",
   "language": "python",
   "name": "python3"
  },
  "language_info": {
   "codemirror_mode": {
    "name": "ipython",
    "version": 3
   },
   "file_extension": ".py",
   "mimetype": "text/x-python",
   "name": "python",
   "nbconvert_exporter": "python",
   "pygments_lexer": "ipython3",
   "version": "3.12.11"
  }
 },
 "nbformat": 4,
 "nbformat_minor": 5
}
